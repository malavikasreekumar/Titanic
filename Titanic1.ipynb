{
  "nbformat": 4,
  "nbformat_minor": 0,
  "metadata": {
    "colab": {
      "name": "Titanic1.ipynb",
      "provenance": [],
      "collapsed_sections": [],
      "authorship_tag": "ABX9TyMzzqppU8EeBawLX0sA4i7R",
      "include_colab_link": true
    },
    "kernelspec": {
      "name": "python3",
      "display_name": "Python 3"
    }
  },
  "cells": [
    {
      "cell_type": "markdown",
      "metadata": {
        "id": "view-in-github",
        "colab_type": "text"
      },
      "source": [
        "<a href=\"https://colab.research.google.com/github/malavikasreekumar/Titanic/blob/master/Titanic1.ipynb\" target=\"_parent\"><img src=\"https://colab.research.google.com/assets/colab-badge.svg\" alt=\"Open In Colab\"/></a>"
      ]
    },
    {
      "cell_type": "code",
      "metadata": {
        "id": "tLQt2rw8s_Fu",
        "colab_type": "code",
        "outputId": "8b9bc9a5-a95c-4a71-b550-a110ce6fbaf2",
        "colab": {
          "base_uri": "https://localhost:8080/",
          "height": 125
        }
      },
      "source": [
        "from google.colab import drive\n",
        "drive.mount('/content/gdrive')"
      ],
      "execution_count": 1,
      "outputs": [
        {
          "output_type": "stream",
          "text": [
            "Go to this URL in a browser: https://accounts.google.com/o/oauth2/auth?client_id=947318989803-6bn6qk8qdgf4n4g3pfee6491hc0brc4i.apps.googleusercontent.com&redirect_uri=urn%3aietf%3awg%3aoauth%3a2.0%3aoob&response_type=code&scope=email%20https%3a%2f%2fwww.googleapis.com%2fauth%2fdocs.test%20https%3a%2f%2fwww.googleapis.com%2fauth%2fdrive%20https%3a%2f%2fwww.googleapis.com%2fauth%2fdrive.photos.readonly%20https%3a%2f%2fwww.googleapis.com%2fauth%2fpeopleapi.readonly\n",
            "\n",
            "Enter your authorization code:\n",
            "··········\n",
            "Mounted at /content/gdrive\n"
          ],
          "name": "stdout"
        }
      ]
    },
    {
      "cell_type": "code",
      "metadata": {
        "id": "23-mgdoitoBx",
        "colab_type": "code",
        "outputId": "2b2bdc1b-b685-4fd1-8104-363ed77399d3",
        "colab": {
          "base_uri": "https://localhost:8080/",
          "height": 34
        }
      },
      "source": [
        "cd gdrive"
      ],
      "execution_count": 2,
      "outputs": [
        {
          "output_type": "stream",
          "text": [
            "/content/gdrive\n"
          ],
          "name": "stdout"
        }
      ]
    },
    {
      "cell_type": "code",
      "metadata": {
        "id": "hhTPQSrPtpRi",
        "colab_type": "code",
        "outputId": "5cf4eda5-9158-41bf-8254-cfa194e1674c",
        "colab": {
          "base_uri": "https://localhost:8080/",
          "height": 34
        }
      },
      "source": [
        "cd My Drive"
      ],
      "execution_count": 3,
      "outputs": [
        {
          "output_type": "stream",
          "text": [
            "/content/gdrive/My Drive\n"
          ],
          "name": "stdout"
        }
      ]
    },
    {
      "cell_type": "code",
      "metadata": {
        "id": "4bFsG0E2t1IO",
        "colab_type": "code",
        "colab": {}
      },
      "source": [
        "#import libraries and dataset\n",
        "import numpy as np\n",
        "import pandas as pd\n",
        "dataset=pd.read_csv('Titanic.csv')"
      ],
      "execution_count": 0,
      "outputs": []
    },
    {
      "cell_type": "code",
      "metadata": {
        "id": "S7Lh5adYt6AY",
        "colab_type": "code",
        "outputId": "80d44745-a958-4097-cb66-44644cdd8bc0",
        "colab": {
          "base_uri": "https://localhost:8080/",
          "height": 298
        }
      },
      "source": [
        "dataset.info()"
      ],
      "execution_count": 5,
      "outputs": [
        {
          "output_type": "stream",
          "text": [
            "<class 'pandas.core.frame.DataFrame'>\n",
            "RangeIndex: 1309 entries, 0 to 1308\n",
            "Data columns (total 9 columns):\n",
            " #   Column       Non-Null Count  Dtype  \n",
            "---  ------       --------------  -----  \n",
            " 0   PassengerId  1309 non-null   int64  \n",
            " 1   Pclass       1309 non-null   int64  \n",
            " 2   Sex          1309 non-null   object \n",
            " 3   Age          1046 non-null   float64\n",
            " 4   SibSp        1309 non-null   int64  \n",
            " 5   Parch        1309 non-null   int64  \n",
            " 6   Fare         1308 non-null   float64\n",
            " 7   Embarked     1307 non-null   object \n",
            " 8   Survived     1309 non-null   int64  \n",
            "dtypes: float64(2), int64(5), object(2)\n",
            "memory usage: 92.2+ KB\n"
          ],
          "name": "stdout"
        }
      ]
    },
    {
      "cell_type": "code",
      "metadata": {
        "id": "fTaR-lasuGAR",
        "colab_type": "code",
        "colab": {}
      },
      "source": [
        "#Dropping the row that has NaN values\n",
        "dataset=dataset.dropna()"
      ],
      "execution_count": 0,
      "outputs": []
    },
    {
      "cell_type": "code",
      "metadata": {
        "id": "7wmFojgHuOLq",
        "colab_type": "code",
        "outputId": "c472eb6d-5323-4bb8-e64d-c5f3a7e3727c",
        "colab": {
          "base_uri": "https://localhost:8080/",
          "height": 298
        }
      },
      "source": [
        "dataset.info()"
      ],
      "execution_count": 7,
      "outputs": [
        {
          "output_type": "stream",
          "text": [
            "<class 'pandas.core.frame.DataFrame'>\n",
            "Int64Index: 1043 entries, 0 to 1306\n",
            "Data columns (total 9 columns):\n",
            " #   Column       Non-Null Count  Dtype  \n",
            "---  ------       --------------  -----  \n",
            " 0   PassengerId  1043 non-null   int64  \n",
            " 1   Pclass       1043 non-null   int64  \n",
            " 2   Sex          1043 non-null   object \n",
            " 3   Age          1043 non-null   float64\n",
            " 4   SibSp        1043 non-null   int64  \n",
            " 5   Parch        1043 non-null   int64  \n",
            " 6   Fare         1043 non-null   float64\n",
            " 7   Embarked     1043 non-null   object \n",
            " 8   Survived     1043 non-null   int64  \n",
            "dtypes: float64(2), int64(5), object(2)\n",
            "memory usage: 81.5+ KB\n"
          ],
          "name": "stdout"
        }
      ]
    },
    {
      "cell_type": "code",
      "metadata": {
        "id": "rp0t3aGsukPm",
        "colab_type": "code",
        "colab": {}
      },
      "source": [
        "#Creating dummy variables\n",
        "dummies = []\n",
        "cols = ['Pclass', 'Sex', 'Embarked']\n",
        "for col in cols:\n",
        "    dummies.append(pd.get_dummies(dataset[col]))"
      ],
      "execution_count": 0,
      "outputs": []
    },
    {
      "cell_type": "code",
      "metadata": {
        "id": "OS7ruYpKuvQF",
        "colab_type": "code",
        "colab": {}
      },
      "source": [
        "titanic_dummies = pd.concat(dummies, axis=1)"
      ],
      "execution_count": 0,
      "outputs": []
    },
    {
      "cell_type": "code",
      "metadata": {
        "id": "ZPydxQsMu2Fg",
        "colab_type": "code",
        "outputId": "82dd46e2-ea53-4181-87ef-b8406a58ef81",
        "colab": {
          "base_uri": "https://localhost:8080/",
          "height": 195
        }
      },
      "source": [
        "dataset.head()"
      ],
      "execution_count": 10,
      "outputs": [
        {
          "output_type": "execute_result",
          "data": {
            "text/html": [
              "<div>\n",
              "<style scoped>\n",
              "    .dataframe tbody tr th:only-of-type {\n",
              "        vertical-align: middle;\n",
              "    }\n",
              "\n",
              "    .dataframe tbody tr th {\n",
              "        vertical-align: top;\n",
              "    }\n",
              "\n",
              "    .dataframe thead th {\n",
              "        text-align: right;\n",
              "    }\n",
              "</style>\n",
              "<table border=\"1\" class=\"dataframe\">\n",
              "  <thead>\n",
              "    <tr style=\"text-align: right;\">\n",
              "      <th></th>\n",
              "      <th>PassengerId</th>\n",
              "      <th>Pclass</th>\n",
              "      <th>Sex</th>\n",
              "      <th>Age</th>\n",
              "      <th>SibSp</th>\n",
              "      <th>Parch</th>\n",
              "      <th>Fare</th>\n",
              "      <th>Embarked</th>\n",
              "      <th>Survived</th>\n",
              "    </tr>\n",
              "  </thead>\n",
              "  <tbody>\n",
              "    <tr>\n",
              "      <th>0</th>\n",
              "      <td>1</td>\n",
              "      <td>3</td>\n",
              "      <td>male</td>\n",
              "      <td>22.0</td>\n",
              "      <td>1</td>\n",
              "      <td>0</td>\n",
              "      <td>7.2500</td>\n",
              "      <td>S</td>\n",
              "      <td>0</td>\n",
              "    </tr>\n",
              "    <tr>\n",
              "      <th>1</th>\n",
              "      <td>2</td>\n",
              "      <td>1</td>\n",
              "      <td>female</td>\n",
              "      <td>38.0</td>\n",
              "      <td>1</td>\n",
              "      <td>0</td>\n",
              "      <td>71.2833</td>\n",
              "      <td>C</td>\n",
              "      <td>1</td>\n",
              "    </tr>\n",
              "    <tr>\n",
              "      <th>2</th>\n",
              "      <td>3</td>\n",
              "      <td>3</td>\n",
              "      <td>female</td>\n",
              "      <td>26.0</td>\n",
              "      <td>0</td>\n",
              "      <td>0</td>\n",
              "      <td>7.9250</td>\n",
              "      <td>S</td>\n",
              "      <td>1</td>\n",
              "    </tr>\n",
              "    <tr>\n",
              "      <th>3</th>\n",
              "      <td>4</td>\n",
              "      <td>1</td>\n",
              "      <td>female</td>\n",
              "      <td>35.0</td>\n",
              "      <td>1</td>\n",
              "      <td>0</td>\n",
              "      <td>53.1000</td>\n",
              "      <td>S</td>\n",
              "      <td>1</td>\n",
              "    </tr>\n",
              "    <tr>\n",
              "      <th>4</th>\n",
              "      <td>5</td>\n",
              "      <td>3</td>\n",
              "      <td>male</td>\n",
              "      <td>35.0</td>\n",
              "      <td>0</td>\n",
              "      <td>0</td>\n",
              "      <td>8.0500</td>\n",
              "      <td>S</td>\n",
              "      <td>0</td>\n",
              "    </tr>\n",
              "  </tbody>\n",
              "</table>\n",
              "</div>"
            ],
            "text/plain": [
              "   PassengerId  Pclass     Sex   Age  SibSp  Parch     Fare Embarked  Survived\n",
              "0            1       3    male  22.0      1      0   7.2500        S         0\n",
              "1            2       1  female  38.0      1      0  71.2833        C         1\n",
              "2            3       3  female  26.0      0      0   7.9250        S         1\n",
              "3            4       1  female  35.0      1      0  53.1000        S         1\n",
              "4            5       3    male  35.0      0      0   8.0500        S         0"
            ]
          },
          "metadata": {
            "tags": []
          },
          "execution_count": 10
        }
      ]
    },
    {
      "cell_type": "code",
      "metadata": {
        "id": "FIVDzSSfu_vN",
        "colab_type": "code",
        "colab": {}
      },
      "source": [
        "dataset = pd.concat((dataset,titanic_dummies), axis=1)"
      ],
      "execution_count": 0,
      "outputs": []
    },
    {
      "cell_type": "code",
      "metadata": {
        "id": "W3Go1Yp5vL2c",
        "colab_type": "code",
        "colab": {}
      },
      "source": [
        "dataset = dataset.drop(['Pclass', 'Sex', 'Embarked'], axis=1)"
      ],
      "execution_count": 0,
      "outputs": []
    },
    {
      "cell_type": "code",
      "metadata": {
        "id": "T19XxFSWvRfq",
        "colab_type": "code",
        "outputId": "f1a18859-3928-49c1-bdcf-724b95460cbe",
        "colab": {
          "base_uri": "https://localhost:8080/",
          "height": 386
        }
      },
      "source": [
        "dataset.info()"
      ],
      "execution_count": 13,
      "outputs": [
        {
          "output_type": "stream",
          "text": [
            "<class 'pandas.core.frame.DataFrame'>\n",
            "Int64Index: 1043 entries, 0 to 1306\n",
            "Data columns (total 14 columns):\n",
            " #   Column       Non-Null Count  Dtype  \n",
            "---  ------       --------------  -----  \n",
            " 0   PassengerId  1043 non-null   int64  \n",
            " 1   Age          1043 non-null   float64\n",
            " 2   SibSp        1043 non-null   int64  \n",
            " 3   Parch        1043 non-null   int64  \n",
            " 4   Fare         1043 non-null   float64\n",
            " 5   Survived     1043 non-null   int64  \n",
            " 6   1            1043 non-null   uint8  \n",
            " 7   2            1043 non-null   uint8  \n",
            " 8   3            1043 non-null   uint8  \n",
            " 9   female       1043 non-null   uint8  \n",
            " 10  male         1043 non-null   uint8  \n",
            " 11  C            1043 non-null   uint8  \n",
            " 12  Q            1043 non-null   uint8  \n",
            " 13  S            1043 non-null   uint8  \n",
            "dtypes: float64(2), int64(4), uint8(8)\n",
            "memory usage: 65.2 KB\n"
          ],
          "name": "stdout"
        }
      ]
    },
    {
      "cell_type": "code",
      "metadata": {
        "id": "5Ty-ZIS6vd6D",
        "colab_type": "code",
        "colab": {}
      },
      "source": [
        "#Missing values in Age\n",
        "dataset['Age']=dataset['Age'].interpolate()"
      ],
      "execution_count": 0,
      "outputs": []
    },
    {
      "cell_type": "code",
      "metadata": {
        "id": "XYa44Kw9v3rT",
        "colab_type": "code",
        "outputId": "12b67ab0-e8fa-49e5-ae58-1fcbb21a3a81",
        "colab": {
          "base_uri": "https://localhost:8080/",
          "height": 386
        }
      },
      "source": [
        "dataset.info()"
      ],
      "execution_count": 15,
      "outputs": [
        {
          "output_type": "stream",
          "text": [
            "<class 'pandas.core.frame.DataFrame'>\n",
            "Int64Index: 1043 entries, 0 to 1306\n",
            "Data columns (total 14 columns):\n",
            " #   Column       Non-Null Count  Dtype  \n",
            "---  ------       --------------  -----  \n",
            " 0   PassengerId  1043 non-null   int64  \n",
            " 1   Age          1043 non-null   float64\n",
            " 2   SibSp        1043 non-null   int64  \n",
            " 3   Parch        1043 non-null   int64  \n",
            " 4   Fare         1043 non-null   float64\n",
            " 5   Survived     1043 non-null   int64  \n",
            " 6   1            1043 non-null   uint8  \n",
            " 7   2            1043 non-null   uint8  \n",
            " 8   3            1043 non-null   uint8  \n",
            " 9   female       1043 non-null   uint8  \n",
            " 10  male         1043 non-null   uint8  \n",
            " 11  C            1043 non-null   uint8  \n",
            " 12  Q            1043 non-null   uint8  \n",
            " 13  S            1043 non-null   uint8  \n",
            "dtypes: float64(2), int64(4), uint8(8)\n",
            "memory usage: 65.2 KB\n"
          ],
          "name": "stdout"
        }
      ]
    },
    {
      "cell_type": "code",
      "metadata": {
        "id": "-GuGUohqwaEM",
        "colab_type": "code",
        "colab": {}
      },
      "source": [
        "#Loading data to X and y\n",
        "X = dataset.values\n",
        "y = dataset['Survived'].values"
      ],
      "execution_count": 0,
      "outputs": []
    },
    {
      "cell_type": "code",
      "metadata": {
        "id": "6Xq90nN6xCKo",
        "colab_type": "code",
        "outputId": "02aafb23-d276-44e6-beef-dcc4be111eef",
        "colab": {
          "base_uri": "https://localhost:8080/",
          "height": 34
        }
      },
      "source": [
        "print(y)"
      ],
      "execution_count": 17,
      "outputs": [
        {
          "output_type": "stream",
          "text": [
            "[0 1 1 ... 1 1 0]\n"
          ],
          "name": "stdout"
        }
      ]
    },
    {
      "cell_type": "code",
      "metadata": {
        "id": "PeUxB4UlwtRp",
        "colab_type": "code",
        "colab": {}
      },
      "source": [
        "#Dropping 'Survived' from X\n",
        "X = np.delete(X, 8, axis=1)"
      ],
      "execution_count": 0,
      "outputs": []
    },
    {
      "cell_type": "code",
      "metadata": {
        "id": "ws5iZtKIxH9B",
        "colab_type": "code",
        "colab": {}
      },
      "source": [
        "#Splitting Data to training and test set\n",
        "from sklearn.model_selection import train_test_split\n",
        "X_train, X_test, y_train, y_test = train_test_split(X, y, test_size=0.3, random_state=0)"
      ],
      "execution_count": 0,
      "outputs": []
    },
    {
      "cell_type": "code",
      "metadata": {
        "id": "iUQNxNLKxdhr",
        "colab_type": "code",
        "outputId": "f8aaa0d9-fa7f-451a-ccf9-e0dd7abf27e9",
        "colab": {
          "base_uri": "https://localhost:8080/",
          "height": 246
        }
      },
      "source": [
        "#Applying Logistic Regression\n",
        "from sklearn.linear_model import LogisticRegression\n",
        "classifier=LogisticRegression()\n",
        "classifier.fit(X_train,y_train)"
      ],
      "execution_count": 20,
      "outputs": [
        {
          "output_type": "stream",
          "text": [
            "/usr/local/lib/python3.6/dist-packages/sklearn/linear_model/_logistic.py:940: ConvergenceWarning: lbfgs failed to converge (status=1):\n",
            "STOP: TOTAL NO. of ITERATIONS REACHED LIMIT.\n",
            "\n",
            "Increase the number of iterations (max_iter) or scale the data as shown in:\n",
            "    https://scikit-learn.org/stable/modules/preprocessing.html\n",
            "Please also refer to the documentation for alternative solver options:\n",
            "    https://scikit-learn.org/stable/modules/linear_model.html#logistic-regression\n",
            "  extra_warning_msg=_LOGISTIC_SOLVER_CONVERGENCE_MSG)\n"
          ],
          "name": "stderr"
        },
        {
          "output_type": "execute_result",
          "data": {
            "text/plain": [
              "LogisticRegression(C=1.0, class_weight=None, dual=False, fit_intercept=True,\n",
              "                   intercept_scaling=1, l1_ratio=None, max_iter=100,\n",
              "                   multi_class='auto', n_jobs=None, penalty='l2',\n",
              "                   random_state=None, solver='lbfgs', tol=0.0001, verbose=0,\n",
              "                   warm_start=False)"
            ]
          },
          "metadata": {
            "tags": []
          },
          "execution_count": 20
        }
      ]
    },
    {
      "cell_type": "code",
      "metadata": {
        "id": "aALISCmgxr26",
        "colab_type": "code",
        "colab": {}
      },
      "source": [
        "#Predicting test results\n",
        "y_pred=classifier.predict(X_test)"
      ],
      "execution_count": 0,
      "outputs": []
    },
    {
      "cell_type": "code",
      "metadata": {
        "id": "pMWdKZPKyIrs",
        "colab_type": "code",
        "outputId": "179825c1-3b81-418e-a025-42c82b21ff7d",
        "colab": {
          "base_uri": "https://localhost:8080/",
          "height": 70
        }
      },
      "source": [
        "#Confusion Matrix and Accuracy\n",
        "from sklearn.metrics import confusion_matrix\n",
        "from sklearn import metrics\n",
        "cm=confusion_matrix(y_test,y_pred)\n",
        "\n",
        "print(cm)\n",
        "print(\"Accuracy=\",metrics.accuracy_score(y_test, y_pred))"
      ],
      "execution_count": 22,
      "outputs": [
        {
          "output_type": "stream",
          "text": [
            "[[180   0]\n",
            " [  0 133]]\n",
            "Accuracy= 1.0\n"
          ],
          "name": "stdout"
        }
      ]
    },
    {
      "cell_type": "code",
      "metadata": {
        "id": "rwy6e3kbEA5n",
        "colab_type": "code",
        "colab": {
          "base_uri": "https://localhost:8080/",
          "height": 70
        },
        "outputId": "68d9b418-91f4-4a33-9080-a3e9e815e920"
      },
      "source": [
        "#Applying K Nearest Neighbors \n",
        "from sklearn.neighbors import KNeighborsClassifier\n",
        "knn=KNeighborsClassifier(n_neighbors=5,metric='manhattan',p=4)\n",
        "knn.fit(X_train,y_train)"
      ],
      "execution_count": 64,
      "outputs": [
        {
          "output_type": "execute_result",
          "data": {
            "text/plain": [
              "KNeighborsClassifier(algorithm='auto', leaf_size=30, metric='manhattan',\n",
              "                     metric_params=None, n_jobs=None, n_neighbors=5, p=4,\n",
              "                     weights='uniform')"
            ]
          },
          "metadata": {
            "tags": []
          },
          "execution_count": 64
        }
      ]
    },
    {
      "cell_type": "code",
      "metadata": {
        "id": "4Hwy-6vEF01n",
        "colab_type": "code",
        "colab": {}
      },
      "source": [
        "y_pred=knn.predict(X_test)"
      ],
      "execution_count": 0,
      "outputs": []
    },
    {
      "cell_type": "code",
      "metadata": {
        "id": "iph7S2GFGAqC",
        "colab_type": "code",
        "colab": {
          "base_uri": "https://localhost:8080/",
          "height": 70
        },
        "outputId": "099c69ca-a3ee-474b-9e6e-5bda821ef854"
      },
      "source": [
        "cm=confusion_matrix(y_test,y_pred)\n",
        "print(cm)\n",
        "print(\"Accuracy=\",metrics.accuracy_score(y_test, y_pred))"
      ],
      "execution_count": 66,
      "outputs": [
        {
          "output_type": "stream",
          "text": [
            "[[153  27]\n",
            " [ 75  58]]\n",
            "Accuracy= 0.6741214057507987\n"
          ],
          "name": "stdout"
        }
      ]
    }
  ]
}